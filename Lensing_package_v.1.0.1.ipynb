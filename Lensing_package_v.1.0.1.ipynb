{
 "cells": [
  {
   "cell_type": "markdown",
   "id": "4ca39440",
   "metadata": {},
   "source": [
    "# This is the jupyter notebook regarding the calulcation for the lensing source Q0957+562"
   ]
  },
  {
   "cell_type": "code",
   "execution_count": null,
   "id": "58736176",
   "metadata": {},
   "outputs": [],
   "source": [
    "# Let's load packages\n",
    "import numpy as np\n",
    "import pandas as pd\n",
    "import matplotlib.pyplot as plt\n",
    "import astropy.io.fits as pf\n",
    "\n",
    "\n",
    "# pyCCF: https://ui.adsabs.harvard.edu/abs/2018ascl.soft05032S/abstract\n",
    "# https://bitbucket.org/cgrier/python_ccf_code/src/master/ and http://ascl.net/1805.032\n",
    "# taufit: https://github.com/burke86/taufit\n",
    "# celerite: https://github.com/dfm/celerite\n",
    "\n",
    "# package for pyCCF, Sun et al. 2020\n",
    "import PYCCF\n",
    "# pacakges for DRW, Burke et al. 2021\n",
    "import celerite\n",
    "from celerite import terms\n",
    "\n",
    "from taufit.taufit import fit_drw\n",
    "from astropy import units as u"
   ]
  },
  {
   "cell_type": "code",
   "execution_count": null,
   "id": "0b11b3db",
   "metadata": {},
   "outputs": [],
   "source": [
    "# Please note that the value can change slightly from the one that you can see within the article due to the\n",
    "# randomization and steps of simulation you would use,  number of production samples,\n",
    "# Additionally due to Monte Carlo simulations trials you likely will obtain slightly different results"
   ]
  },
  {
   "cell_type": "code",
   "execution_count": null,
   "id": "239c4878",
   "metadata": {},
   "outputs": [],
   "source": [
    "# This is a nice scientific library that produces plots used in the article\n",
    "plt.style.reload_library()\n",
    "plt.style.use(['science', 'ieee'])"
   ]
  },
  {
   "cell_type": "code",
   "execution_count": 6,
   "id": "5ab66165",
   "metadata": {},
   "outputs": [],
   "source": [
    "# Loading fits file of the light curves\n",
    "# Please change the name of a file if you would like to use other than provided within the notebook\n",
    "lc_all = []\n",
    "lc_file = pf.open('Q0957_lc_image2.fits')\n",
    "lc_all.append(lc_file[1].data)\n",
    "lc_file.close()"
   ]
  },
  {
   "cell_type": "code",
   "execution_count": 7,
   "id": "9fffa5a6",
   "metadata": {
    "collapsed": true
   },
   "outputs": [
    {
     "data": {
      "text/plain": [
       "<matplotlib.legend.Legend at 0x7f1f6efc7760>"
      ]
     },
     "execution_count": 7,
     "metadata": {},
     "output_type": "execute_result"
    },
    {
     "data": {
      "image/png": "[encoded data removed]",
      "text/plain": [
       "<Figure size 432x288 with 1 Axes>"
      ]
     },
     "metadata": {
      "needs_background": "light"
     },
     "output_type": "display_data"
    }
   ],
   "source": [
    "lc_seg = lc_all[0]\n",
    "selg  = np.where((lc_seg ['filtercode']=='zg')&(lc_seg ['catflags']==0), True, False)\n",
    "plt.scatter(lc_seg ['mjd'][selg ], lc_seg ['mag'][selg ], label = 'g band', color ='green', s=0.4)\n",
    "\n",
    "selr  = np.where((lc_seg ['filtercode']=='zr')&(lc_seg ['catflags']==0), True, False)\n",
    "plt.scatter(lc_seg ['mjd'][selr ], lc_seg ['mag'][selr ], label = 'r band', color = 'red', s=0.4)\n",
    "\n",
    "seli  = np.where((lc_seg ['filtercode']=='zi')&(lc_seg ['catflags']==0), True, False)\n",
    "plt.scatter(lc_seg ['mjd'][seli ], lc_seg ['mag'][seli ], label = 'i band', color = 'gray', s=0.4)\n",
    "\n",
    "plt.xlabel(\"MJD [days]\")\n",
    "plt.ylabel(\"mag\")\n",
    "plt.ylim([17.8, 17.0])\n",
    "plt.legend(loc='best')\n",
    "\n",
    "# Lines if you would like to have a title and save a figure\n",
    "# plt.title('Q0957+562, IMAGE 2')\n",
    "# to save image\n",
    "# plt.savefig('Q0957+562_IMAGE.png')"
   ]
  },
  {
   "cell_type": "code",
   "execution_count": null,
   "id": "9bfcff83",
   "metadata": {},
   "outputs": [],
   "source": [
    "# Image 2 g and r band \n",
    "lc_seg  = lc_all [0]\n",
    "selg  = np.where((lc_seg ['filtercode']=='zg')&(lc_seg ['catflags']==0), True, False)\n",
    "selr  = np.where((lc_seg ['filtercode']=='zr')&(lc_seg ['catflags']==0), True, False)\n",
    "\n",
    "sort_g  = np.argsort(lc_seg ['mjd'][selg ])\n",
    "sort_r  = np.argsort(lc_seg ['mjd'][selr ])\n",
    "\n",
    "mycor  = PYCCF.peakcent(lc_seg ['mjd'][selg ][sort_g ], lc_seg ['mag'][selg ][sort_g ],\n",
    "                        lc_seg ['mjd'][selr ][sort_r ],\n",
    "                        lc_seg ['mag'][selr ][sort_r ], -100., 100., 0.3)"
   ]
  },
  {
   "cell_type": "code",
   "execution_count": null,
   "id": "07662dc9",
   "metadata": {},
   "outputs": [],
   "source": [
    "# Let's check how peakcent from pyCCF looks like\n",
    "\n",
    "plt.plot(mycor[4][1], mycor[4][0])\n",
    "plt.vlines(0., -1.0, 1.0, color='k')\n",
    "plt.ylim([0.4, 1.0])\n",
    "plt.xlim([-100,100])"
   ]
  },
  {
   "cell_type": "code",
   "execution_count": null,
   "id": "f14f8472",
   "metadata": {},
   "outputs": [],
   "source": [
    "# Constraining segments for DRW calculations for g and r\n",
    "\n",
    "tg = lc_seg['mjd'][selg][sort_g]\n",
    "mg = lc_seg['mag'][selg][sort_g]\n",
    "eg = lc_seg['magerr'][selg][sort_g]\n",
    "\n",
    "tr = lc_seg['mjd'][selr][sort_r]\n",
    "mr = lc_seg['mag'][selr][sort_r]\n",
    "er = lc_seg['magerr'][selr][sort_r]"
   ]
  },
  {
   "cell_type": "code",
   "execution_count": null,
   "id": "5e2c980f",
   "metadata": {},
   "outputs": [],
   "source": [
    "# g-band curve DRW fit estimation, creating a variable for DRW\n",
    "# Fit DRW model using celerite, please look for more details to taufit and celerite githubs\n",
    "# taufit: https://github.com/burke86/taufit\n",
    "# celerite: https://github.com/dfm/celerite\n",
    "gfit = fit_drw(tg*u.day, mg*u.mag, eg*u.mag)"
   ]
  },
  {
   "cell_type": "code",
   "execution_count": null,
   "id": "450c1812",
   "metadata": {
    "scrolled": true
   },
   "outputs": [],
   "source": [
    "# r-band curve DRW fit estimation, creating a variable for DRW\n",
    "\n",
    "rfit = fit_drw(tr*u.day, mr*u.mag, er*u.mag)"
   ]
  },
  {
   "cell_type": "code",
   "execution_count": null,
   "id": "690713b8",
   "metadata": {},
   "outputs": [],
   "source": [
    "# Let's check the DRW predictions\n",
    "\n",
    "# The range will be different for your case, please validate it by yourself\n",
    "ts = np.arange(58400., 59400, 0.3)\n",
    "\n",
    "gs = gfit[0].predict(mg*u.mag, t=ts)\n",
    "rs = rfit[0].predict(mr*u.mag, t=ts)"
   ]
  },
  {
   "cell_type": "code",
   "execution_count": null,
   "id": "3c8cc0ee",
   "metadata": {},
   "outputs": [],
   "source": [
    "# Let's check how peakcent from pyCCF looks like for DRW\n",
    "# It is our second measurement so, to avoid confusion of the naming, let's put \"2\",\n",
    "# feel free to change it for your study case\n",
    "# Similar naming will be across the jupyter notebook\n",
    "mycor2 = PYCCF.peakcent(ts, gs[0], ts, rs[0], -100., 100., 0.3)"
   ]
  },
  {
   "cell_type": "code",
   "execution_count": null,
   "id": "1a5c44f0",
   "metadata": {},
   "outputs": [],
   "source": [
    "# Let's check the polynomial approach \n",
    "# deg = number is the degree that you would like to use for the detrending,\n",
    "# In this example, I have tested some degrees, whereas for the purpose of the tutorial is equal 2\n",
    "\n",
    "gpof = np.polyfit(ts, gs[0], deg=2)\n",
    "gpoly = np.poly1d(gpof)(ts)\n",
    "\n",
    "rpof = np.polyfit(ts, rs[0], deg=2)\n",
    "rpoly = np.poly1d(rpof)(ts)"
   ]
  },
  {
   "cell_type": "code",
   "execution_count": null,
   "id": "36831f83",
   "metadata": {},
   "outputs": [],
   "source": [
    "# Plotting polynomial\n",
    "plt.plot(tg, mg, '.', color='C1')\n",
    "plt.plot(tr, mr, '.', color='C2')\n",
    "\n",
    "plt.plot(ts, gs[0], '.', color='C1')\n",
    "plt.plot(ts, rs[0], '.', color='C2')\n",
    "\n",
    "plt.plot(ts, gpoly, ts, rpoly, color ='black')"
   ]
  },
  {
   "cell_type": "code",
   "execution_count": null,
   "id": "d62f4d17",
   "metadata": {},
   "outputs": [],
   "source": [
    "# You can change the range according to your usage, where is the main part of your interest\n",
    "ts = np.arange(58400., 59400, 0.3)"
   ]
  },
  {
   "cell_type": "code",
   "execution_count": null,
   "id": "2cf22f82",
   "metadata": {},
   "outputs": [],
   "source": [
    "sel_g_t = np.where((tg>58400.)&(tg<59400.), True, False)\n",
    "sel_r_t = np.where((tr>58400.)&(tr<59400.), True, False)"
   ]
  },
  {
   "cell_type": "code",
   "execution_count": null,
   "id": "5578e90d",
   "metadata": {},
   "outputs": [],
   "source": [
    "mycor3 = PYCCF.peakcent(tg[sel_g_t], mg[sel_g_t]-np.poly1d(gpof)(tg[sel_g_t]),\n",
    "                        tr[sel_r_t], mr[sel_r_t]-np.poly1d(rpof)(tr[sel_r_t]), -100., 100., 0.3)"
   ]
  },
  {
   "cell_type": "code",
   "execution_count": null,
   "id": "1676fb54",
   "metadata": {
    "scrolled": true
   },
   "outputs": [],
   "source": [
    "# Let's plot the peakcent from pyCCF\n",
    "plt.plot(mycor3[4][1], mycor3[4][0])\n",
    "plt.xlabel('Observed-frame time lag [days]')\n",
    "plt.ylabel('Cross correlation coefficient')\n"
   ]
  },
  {
   "cell_type": "markdown",
   "id": "d99813f4",
   "metadata": {},
   "source": [
    "## Let's do MC!"
   ]
  },
  {
   "cell_type": "code",
   "execution_count": null,
   "id": "e43bf003",
   "metadata": {
    "scrolled": true
   },
   "outputs": [],
   "source": [
    "nsim = 128\n",
    "\n",
    "tau_peak_mc = np.zeros((nsim, 2))\n",
    "tau_cent_mc = np.zeros((nsim, 2))\n",
    "\n",
    "for i in range(nsim):\n",
    "    gs_mc = gfit[0].sample_conditional(mg*u.mag, t=ts)\n",
    "    rs_mc = rfit[0].sample_conditional(mr*u.mag, t=ts)\n",
    "    gpof_mc = np.polyfit(ts, gs_mc, deg=2)\n",
    "    gpoly_mc = np.poly1d(gpof_mc)(ts)\n",
    "    rpof_mc = np.polyfit(ts, rs_mc, deg=2)\n",
    "    rpoly_mc = np.poly1d(rpof_mc)(ts)\n",
    "    mycor3_mc = PYCCF.peakcent(ts, gs_mc-gpoly_mc, ts, rs_mc-rpoly_mc, -100., 100., 0.3)\n",
    "    tau_peak_mc[i, :] = mycor3_mc[:2]\n",
    "    tau_cent_mc[i, :] = mycor3_mc[2:4]\n",
    "    print(i)"
   ]
  },
  {
   "cell_type": "markdown",
   "id": "4400e9b8",
   "metadata": {},
   "source": [
    "### Let's check our MC results"
   ]
  },
  {
   "cell_type": "code",
   "execution_count": null,
   "id": "50b047b8",
   "metadata": {},
   "outputs": [],
   "source": [
    "# Median of tau from MC - observed frame \n",
    "obs_f_tau_mc = np.median(tau_cent_mc[tau_cent_mc[:,1]>0., 0])"
   ]
  },
  {
   "cell_type": "code",
   "execution_count": null,
   "id": "652645f0",
   "metadata": {},
   "outputs": [],
   "source": [
    "# The percentile array and error of 1 sigma in the observed-frame\n",
    "np.percentile(tau_cent_mc[tau_cent_mc[:,1]>0., 0], [2.5, 16, 50, 84, 97.5]) "
   ]
  },
  {
   "cell_type": "code",
   "execution_count": null,
   "id": "06be2956",
   "metadata": {},
   "outputs": [],
   "source": [
    "# Let's plot the results\n",
    "# Again, this plot can be slightly different than article one due to the randomized process in MC simulations\n",
    "\n",
    "f, (ax1, ax2) = plt.subplots(2, 1, sharex=False, figsize=(3,4))\n",
    "\n",
    "ax1.plot(mycor3[4][1], mycor3[4][0], color =\"royalblue\" )\n",
    "ax1.set_xlabel('Observed-frame time lag [days]')\n",
    "ax1.set_ylabel('Cross correlation coefficient')\n",
    "\n",
    "ax2.hist(tau_cent_mc[tau_cent_mc[:,1]>0., 0], bins='auto', color ='royalblue')\n",
    "ax2.set_xlabel('Observed-frame time lag [days]')\n",
    "ax2.set_ylabel('Distribution')\n",
    "ax2.set_ylim([0,35])\n",
    "\n",
    "ax2.vlines(x = obs_f_tau_mc, ymin = 0, ymax = 200, color = 'r', linestyle='--')\n",
    "\n",
    "plt.subplots_adjust(hspace=0.30)\n",
    "plt.show()"
   ]
  }
 ],
 "metadata": {
  "kernelspec": {
   "display_name": "Python 3",
   "language": "python",
   "name": "python3"
  },
  "language_info": {
   "codemirror_mode": {
    "name": "ipython",
    "version": 3
   },
   "file_extension": ".py",
   "mimetype": "text/x-python",
   "name": "python",
   "nbconvert_exporter": "python",
   "pygments_lexer": "ipython3",
   "version": "3.8.0"
  }
 },
 "nbformat": 4,
 "nbformat_minor": 5
}
